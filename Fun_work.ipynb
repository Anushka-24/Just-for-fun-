{
 "cells": [
  {
   "cell_type": "markdown",
   "id": "a2cea429",
   "metadata": {},
   "source": [
    "### Text to speech convert\n",
    "Random talk between the girls. Just for fun!"
   ]
  },
  {
   "cell_type": "code",
   "execution_count": 3,
   "id": "d548908d",
   "metadata": {},
   "outputs": [],
   "source": [
    "# Install and import the library pyttsx3\n",
    "import pyttsx3\n",
    "\n",
    "victoria =pyttsx3.init ()\n",
    "# Change the male voice to female. For windows 10 it works.\n",
    "victoria.setProperty('voice', 'HKEY_LOCAL_MACHINE\\SOFTWARE\\Microsoft\\Speech\\Voices\\Tokens\\TTS_MS_EN-US_ZIRA_11.0') \n",
    "anushka =pyttsx3.init ()\n",
    "tania =pyttsx3.init ()\n",
    "amel =pyttsx3.init ()\n",
    "all1=pyttsx3.init()\n",
    "\n",
    "victoria.say('I want to go outside')\n",
    "anushka.say('Where we should go? Girls, can we go for a coffe?')\n",
    "tania.say('Oh yes please! I just love coffe')\n",
    "amel.say('Ok! let me find some good coffe shop at city center')\n",
    "all1.say('Lets go')\n",
    "victoria.runAndWait()\n",
    "anushka.runAndWait()\n",
    "tania.runAndWait()\n",
    "amel.runAndWait()\n",
    "all1.runAndWait()\n",
    "\n"
   ]
  }
 ],
 "metadata": {
  "kernelspec": {
   "display_name": "Python 3 (ipykernel)",
   "language": "python",
   "name": "python3"
  },
  "language_info": {
   "codemirror_mode": {
    "name": "ipython",
    "version": 3
   },
   "file_extension": ".py",
   "mimetype": "text/x-python",
   "name": "python",
   "nbconvert_exporter": "python",
   "pygments_lexer": "ipython3",
   "version": "3.9.7"
  }
 },
 "nbformat": 4,
 "nbformat_minor": 5
}
